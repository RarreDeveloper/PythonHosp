{
  "nbformat": 4,
  "nbformat_minor": 0,
  "metadata": {
    "colab": {
      "provenance": []
    },
    "kernelspec": {
      "name": "python3",
      "display_name": "Python 3"
    },
    "language_info": {
      "name": "python"
    }
  },
  "cells": [
    {
      "cell_type": "markdown",
      "source": [
        "# Person Class"
      ],
      "metadata": {
        "id": "-HCDM8nk5O98"
      }
    },
    {
      "cell_type": "code",
      "execution_count": 1,
      "metadata": {
        "id": "CQf--uM74SyS"
      },
      "outputs": [],
      "source": [
        "# Person Class (Base Class)\n",
        "class Person:\n",
        "    def __init__(self, name, age, gender, phone):\n",
        "        \"\"\"\n",
        "        Initializes a new Person with basic information.\n",
        "        \"\"\"\n",
        "        self.name = name\n",
        "        self.age = age\n",
        "        self.gender = gender\n",
        "        self.phone = phone"
      ]
    },
    {
      "cell_type": "markdown",
      "source": [
        "# Doctor Class"
      ],
      "metadata": {
        "id": "CIfFINZ05OBP"
      }
    },
    {
      "cell_type": "code",
      "source": [
        "# Doctor Class (Simplified)\n",
        "class Doctor(Person):\n",
        "    def __init__(self, name, age, gender, phone, specialization):\n",
        "        \"\"\"\n",
        "        Initializes a Doctor with basic information and specialization.\n",
        "        \"\"\"\n",
        "        super().__init__(name, age, gender, phone)\n",
        "        self.specialization = specialization\n",
        "        self.appointments = []  # Holds scheduled appointments\n",
        "\n",
        "    def schedule_appointment(self, patient, date, time):\n",
        "        \"\"\"\n",
        "        Schedules an appointment with a patient.\n",
        "        \"\"\"\n",
        "        appointment = f\"Appointment with {patient.name} on {date} at {time}\"\n",
        "        self.appointments.append(appointment)\n",
        "        return f\"Scheduled: {appointment}\"\n",
        "\n",
        "    def view_appointments(self):\n",
        "        \"\"\"\n",
        "        Returns a list of all scheduled appointments for the doctor.\n",
        "        \"\"\"\n",
        "        return self.appointments if self.appointments else \"No appointments scheduled.\"\n"
      ],
      "metadata": {
        "id": "wTp3Qo_r480F"
      },
      "execution_count": 2,
      "outputs": []
    },
    {
      "cell_type": "markdown",
      "source": [
        "# Patient Class"
      ],
      "metadata": {
        "id": "8dGenLih5MgJ"
      }
    },
    {
      "cell_type": "code",
      "source": [
        "# Patient Class (Simplified)\n",
        "class Patient(Person):\n",
        "    def __init__(self, name, age, gender, phone):\n",
        "        \"\"\"\n",
        "        Initializes a Patient with basic details and a medical history.\n",
        "        \"\"\"\n",
        "        super().__init__(name, age, gender, phone)\n",
        "        self.medical_history = []  # Stores medical records\n",
        "        self.appointments = []  # Stores appointment details\n",
        "\n",
        "    def book_appointment(self, doctor, date, time):\n",
        "        \"\"\"\n",
        "        Books an appointment with a doctor.\n",
        "        \"\"\"\n",
        "        appointment = f\"Appointment with Dr. {doctor.name} on {date} at {time}\"\n",
        "        self.appointments.append(appointment)\n",
        "        doctor.schedule_appointment(self, date, time)\n",
        "        return f\"Booked: {appointment}\"\n",
        "\n",
        "    def view_medical_history(self):\n",
        "        \"\"\"\n",
        "        Returns the patient's medical history.\n",
        "        \"\"\"\n",
        "        return self.medical_history if self.medical_history else \"No medical history available.\"\n"
      ],
      "metadata": {
        "id": "Vx3o9saK5Gj2"
      },
      "execution_count": 3,
      "outputs": []
    },
    {
      "cell_type": "markdown",
      "source": [
        "# Appointment Class"
      ],
      "metadata": {
        "id": "4uQW9N--5fuX"
      }
    },
    {
      "cell_type": "code",
      "source": [
        "# Appointment Class (Simplified)\n",
        "class Appointment:\n",
        "    def __init__(self, patient, doctor, date, time):\n",
        "        \"\"\"\n",
        "        Initializes an Appointment with basic details.\n",
        "        \"\"\"\n",
        "        self.patient = patient\n",
        "        self.doctor = doctor\n",
        "        self.date = date\n",
        "        self.time = time\n",
        "        self.status = \"Scheduled\"\n",
        "\n",
        "    def cancel(self):\n",
        "        \"\"\"\n",
        "        Cancels the appointment.\n",
        "        \"\"\"\n",
        "        self.status = \"Cancelled\"\n",
        "        return \"Appointment cancelled.\"\n"
      ],
      "metadata": {
        "id": "P7obzuqd5Src"
      },
      "execution_count": 4,
      "outputs": []
    },
    {
      "cell_type": "markdown",
      "source": [
        "# Hospital Class"
      ],
      "metadata": {
        "id": "7KtKrW5Z6SyH"
      }
    },
    {
      "cell_type": "code",
      "source": [
        "# Simplified Hospital Class\n",
        "class Hospital:\n",
        "    def __init__(self):\n",
        "        \"\"\"\n",
        "        Initializes the Hospital with lists for patients, doctors, and appointments.\n",
        "        \"\"\"\n",
        "        self.patients = []      # List to hold patient objects\n",
        "        self.doctors = []       # List to hold doctor objects\n",
        "        self.appointments = []  # List to hold appointment objects\n",
        "\n",
        "    def add_patient(self, patient):\n",
        "        \"\"\"\n",
        "        Adds a new patient to the hospital.\n",
        "        \"\"\"\n",
        "        self.patients.append(patient)\n",
        "        return f\"Patient {patient.name} added.\"\n",
        "\n",
        "    def add_doctor(self, doctor):\n",
        "        \"\"\"\n",
        "        Adds a new doctor to the hospital.\n",
        "        \"\"\"\n",
        "        self.doctors.append(doctor)\n",
        "        return f\"Doctor {doctor.name} added.\"\n",
        "\n",
        "    def schedule_appointment(self, patient, doctor, date, time):\n",
        "        \"\"\"\n",
        "        Schedules an appointment between a patient and a doctor.\n",
        "        \"\"\"\n",
        "        appointment = Appointment(patient, doctor, date, time)\n",
        "        self.appointments.append(appointment)\n",
        "        patient.appointments.append(appointment)\n",
        "        doctor.appointments.append(appointment)\n",
        "        return f\"Appointment scheduled for {patient.name} with Dr. {doctor.name} on {date} at {time}.\"\n",
        "\n",
        "    def view_all_appointments(self):\n",
        "        \"\"\"\n",
        "        Returns a formatted string of all scheduled appointments in the hospital.\n",
        "        \"\"\"\n",
        "        return [f\"{a.patient.name} with Dr. {a.doctor.name} on {a.date} at {a.time} - {a.status}\" for a in self.appointments] if self.appointments else [\"No appointments scheduled.\"]\n"
      ],
      "metadata": {
        "id": "QaLmCjRB5iE7"
      },
      "execution_count": 5,
      "outputs": []
    },
    {
      "cell_type": "markdown",
      "source": [
        "# 🛠 Final Testing - Running the System"
      ],
      "metadata": {
        "id": "8LRnVwiL68lf"
      }
    },
    {
      "cell_type": "code",
      "source": [
        "# Create a hospital instance\n",
        "hospital = Hospital()"
      ],
      "metadata": {
        "id": "OWfSA6ka77Mm"
      },
      "execution_count": 7,
      "outputs": []
    },
    {
      "cell_type": "code",
      "source": [
        "# Create a doctor and a patient\n",
        "doctor1 = Doctor(\"Smith\", 45, \"Male\", \"123456789\", \"Cardiology\")\n",
        "patient1 = Patient(\"John Doe\", 30, \"Male\", \"987654321\")"
      ],
      "metadata": {
        "id": "NH0nMdYu78L9"
      },
      "execution_count": 12,
      "outputs": []
    },
    {
      "cell_type": "code",
      "source": [
        "# Add doctor and patient to the hospital\n",
        "print(hospital.add_doctor(doctor1))  # Expected: \"Doctor Dr. Smith added.\"\n",
        "print(hospital.add_patient(patient1))  # Expected: \"Patient John Doe added.\""
      ],
      "metadata": {
        "colab": {
          "base_uri": "https://localhost:8080/"
        },
        "id": "0Gazv2Gx79FR",
        "outputId": "e4b4275e-d03c-4483-966e-ba9275b47465"
      },
      "execution_count": 13,
      "outputs": [
        {
          "output_type": "stream",
          "name": "stdout",
          "text": [
            "Doctor Smith added.\n",
            "Patient John Doe added.\n"
          ]
        }
      ]
    },
    {
      "cell_type": "code",
      "source": [
        "# Schedule an appointment\n",
        "appointment_result = hospital.schedule_appointment(patient1, doctor1, \"2025-03-15\", \"10:00 AM\")\n",
        "print(appointment_result)  # Expected: \"Appointment scheduled for John Doe with Dr. Smith on 2025-03-15 at 10:00 AM.\""
      ],
      "metadata": {
        "colab": {
          "base_uri": "https://localhost:8080/"
        },
        "id": "aBfagHEv7_eM",
        "outputId": "0f6695d5-e4c0-4704-ff92-14310be198ef"
      },
      "execution_count": 14,
      "outputs": [
        {
          "output_type": "stream",
          "name": "stdout",
          "text": [
            "Appointment scheduled for John Doe with Dr. Smith on 2025-03-15 at 10:00 AM.\n"
          ]
        }
      ]
    },
    {
      "cell_type": "code",
      "source": [
        "# View all appointments before cancellation\n",
        "print(\"Appointments before cancellation:\")\n",
        "print(hospital.view_all_appointments())  # Expected: List containing the scheduled appointment"
      ],
      "metadata": {
        "colab": {
          "base_uri": "https://localhost:8080/"
        },
        "id": "a6r6aIle8Bci",
        "outputId": "f68affc1-4d8d-4d1e-bead-c69be5bb4c3d"
      },
      "execution_count": 11,
      "outputs": [
        {
          "output_type": "stream",
          "name": "stdout",
          "text": [
            "Appointments before cancellation:\n",
            "['John Doe with Dr. Dr. Smith on 2025-03-15 at 10:00 AM - Scheduled']\n"
          ]
        }
      ]
    },
    {
      "cell_type": "code",
      "source": [
        "# Cancel the appointment\n",
        "appointment1 = hospital.appointments[0]  # Get the first appointment\n",
        "cancel_result = appointment1.cancel()\n",
        "print(cancel_result)  # Expected: \"Appointment cancelled.\""
      ],
      "metadata": {
        "colab": {
          "base_uri": "https://localhost:8080/"
        },
        "id": "X8qjXuD_8NCC",
        "outputId": "1345cbc5-0f18-447b-a2b4-84a97d9df3b6"
      },
      "execution_count": 15,
      "outputs": [
        {
          "output_type": "stream",
          "name": "stdout",
          "text": [
            "Appointment cancelled.\n"
          ]
        }
      ]
    },
    {
      "cell_type": "code",
      "source": [
        "# View all appointments after cancellation\n",
        "print(\"Appointments after cancellation:\")\n",
        "print(hospital.view_all_appointments())  # Expected: List showing the appointment with status \"Cancelled\""
      ],
      "metadata": {
        "colab": {
          "base_uri": "https://localhost:8080/"
        },
        "id": "qTGZkvdj6VIr",
        "outputId": "87c9862c-757f-4823-db8d-f61bfb9478bc"
      },
      "execution_count": 16,
      "outputs": [
        {
          "output_type": "stream",
          "name": "stdout",
          "text": [
            "Appointments after cancellation:\n",
            "['John Doe with Dr. Dr. Smith on 2025-03-15 at 10:00 AM - Cancelled', 'John Doe with Dr. Smith on 2025-03-15 at 10:00 AM - Scheduled']\n"
          ]
        }
      ]
    }
  ]
}